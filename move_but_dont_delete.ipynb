{
 "cells": [
  {
   "cell_type": "code",
   "execution_count": 1,
   "metadata": {},
   "outputs": [],
   "source": [
    "%load_ext Cython"
   ]
  },
  {
   "cell_type": "code",
   "execution_count": 2,
   "metadata": {},
   "outputs": [
    {
     "name": "stdout",
     "output_type": "stream",
     "text": [
      "45\n"
     ]
    }
   ],
   "source": [
    "%%cython\n",
    "#%%cython --annotate\n",
    "\n",
    "cdef int a = 0\n",
    "for i in range(10):\n",
    "    a += i\n",
    "print(a)"
   ]
  },
  {
   "cell_type": "code",
   "execution_count": 3,
   "metadata": {},
   "outputs": [],
   "source": [
    "%%cython\n",
    "\n",
    "import numpy as np\n",
    "cimport numpy as np\n",
    "cimport cython\n",
    "from libc.math cimport pow\n",
    "\n",
    "#@cython.boundscheck(False)\n",
    "#@cython.wraparound(False)\n",
    "\n",
    "cpdef f(double[:] arr):\n",
    "   cdef np.ndarray[dtype=np.double_t, ndim=1] res\n",
    "   res=np.zeros(len(arr),dtype=np.double)\n",
    "   cdef double[:] res_view=res\n",
    "   cdef int i\n",
    "\n",
    "   for i in range(len(arr)):\n",
    "      res_view[i]=pow(arr[i],2)\n",
    "    \n",
    "   return res\n",
    "\n",
    "arr=np.random.rand(10000)"
   ]
  },
  {
   "cell_type": "code",
   "execution_count": 4,
   "metadata": {},
   "outputs": [
    {
     "name": "stdout",
     "output_type": "stream",
     "text": [
      "18.4 µs ± 284 ns per loop (mean ± std. dev. of 7 runs, 100000 loops each)\n"
     ]
    }
   ],
   "source": [
    "%timeit f(arr)"
   ]
  },
  {
   "cell_type": "code",
   "execution_count": 5,
   "metadata": {},
   "outputs": [],
   "source": [
    "import numba\n",
    "\n",
    "@numba.njit(fastmath = False)\n",
    "def power(base: float, exponent: int) -> float:\n",
    "    \"\"\"\"\"\" # TODO add modulus\n",
    "    n = 1\n",
    "    for i in range(1, exponent + 1):\n",
    "        n = base * n\n",
    "\n",
    "    return n"
   ]
  },
  {
   "cell_type": "code",
   "execution_count": 7,
   "metadata": {},
   "outputs": [
    {
     "name": "stdout",
     "output_type": "stream",
     "text": [
      "5.1 ms ± 81.9 µs per loop (mean ± std. dev. of 7 runs, 100 loops each)\n"
     ]
    }
   ],
   "source": [
    "timeit power(2,10000000)"
   ]
  },
  {
   "cell_type": "code",
   "execution_count": 8,
   "metadata": {},
   "outputs": [
    {
     "name": "stdout",
     "output_type": "stream",
     "text": [
      "44.9 ms ± 8.53 ms per loop (mean ± std. dev. of 7 runs, 10 loops each)\n"
     ]
    }
   ],
   "source": [
    "timeit pow(2,10000000)"
   ]
  },
  {
   "cell_type": "code",
   "execution_count": 9,
   "metadata": {},
   "outputs": [],
   "source": [
    "@numba.njit(fastmath = False)\n",
    "def power2(base: float, exponent: int) -> float:\n",
    "    # Works with negative exponent\n",
    "    if exponent == 0:\n",
    "        return 1\n",
    "    elif exponent < 0:\n",
    "        return 1 / power2(base, -exponent)\n",
    "    elif exponent % 2 == 0:\n",
    "        half_pow = power2(base, exponent // 2)\n",
    "        return half_pow * half_pow\n",
    "    else:\n",
    "        return base * power2(base, exponent - 1)"
   ]
  },
  {
   "cell_type": "code",
   "execution_count": 14,
   "metadata": {},
   "outputs": [
    {
     "name": "stdout",
     "output_type": "stream",
     "text": [
      "563 ns ± 42 ns per loop (mean ± std. dev. of 7 runs, 1000000 loops each)\n"
     ]
    }
   ],
   "source": [
    "timeit power2(2,10000000)"
   ]
  },
  {
   "cell_type": "code",
   "execution_count": 12,
   "metadata": {},
   "outputs": [],
   "source": [
    "@numba.njit(fastmath = False)\n",
    "def power3(base: float, exponent: int) -> float:\n",
    "    # Fast\n",
    "    \n",
    "    remaining_multiplicand = 1\n",
    "    result = base\n",
    "\n",
    "    while exponent > 1:\n",
    "\n",
    "        remainder = exponent % 2\n",
    "\n",
    "        if remainder > 0:\n",
    "            remaining_multiplicand = remaining_multiplicand * result\n",
    "        exponent = (exponent - remainder) / 2\n",
    "        result = result * result\n",
    "\n",
    "    return result * remaining_multiplicand"
   ]
  },
  {
   "cell_type": "code",
   "execution_count": 16,
   "metadata": {},
   "outputs": [
    {
     "name": "stdout",
     "output_type": "stream",
     "text": [
      "726 ns ± 17.2 ns per loop (mean ± std. dev. of 7 runs, 1000000 loops each)\n"
     ]
    }
   ],
   "source": [
    "timeit power3(2,10000000)"
   ]
  },
  {
   "cell_type": "code",
   "execution_count": 25,
   "metadata": {},
   "outputs": [],
   "source": [
    "%%cython\n",
    "\n",
    "cpdef cpower(double base, int exponent):\n",
    "    \"\"\"\"\"\" # TODO add modulus\n",
    "    cdef double n = 1\n",
    "    for i in range(1, exponent + 1):\n",
    "        n = base * n\n",
    "\n",
    "    return n"
   ]
  },
  {
   "cell_type": "code",
   "execution_count": 26,
   "metadata": {},
   "outputs": [
    {
     "name": "stdout",
     "output_type": "stream",
     "text": [
      "19.5 ms ± 2.13 ms per loop (mean ± std. dev. of 7 runs, 10 loops each)\n"
     ]
    }
   ],
   "source": [
    "%timeit cpower(2,10000000)"
   ]
  },
  {
   "cell_type": "code",
   "execution_count": 27,
   "metadata": {},
   "outputs": [],
   "source": [
    "def Nonpower(base: float, exponent: int) -> float:\n",
    "    \"\"\"\"\"\" # TODO add modulus\n",
    "    n = 1\n",
    "    for i in range(1, exponent + 1):\n",
    "        n = base * n\n",
    "\n",
    "    return n"
   ]
  },
  {
   "cell_type": "code",
   "execution_count": null,
   "metadata": {},
   "outputs": [],
   "source": [
    "timeit Nonpower(2,10)"
   ]
  },
  {
   "cell_type": "code",
   "execution_count": null,
   "metadata": {},
   "outputs": [],
   "source": []
  }
 ],
 "metadata": {
  "kernelspec": {
   "display_name": "Python 3",
   "language": "python",
   "name": "python3"
  },
  "language_info": {
   "codemirror_mode": {
    "name": "ipython",
    "version": 3
   },
   "file_extension": ".py",
   "mimetype": "text/x-python",
   "name": "python",
   "nbconvert_exporter": "python",
   "pygments_lexer": "ipython3",
   "version": "3.7.3"
  }
 },
 "nbformat": 4,
 "nbformat_minor": 2
}
